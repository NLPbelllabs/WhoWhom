{
 "cells": [
  {
   "cell_type": "code",
   "execution_count": 1,
   "id": "1546601a",
   "metadata": {},
   "outputs": [
    {
     "name": "stderr",
     "output_type": "stream",
     "text": [
      "\n",
      "Attaching package: 'dplyr'\n",
      "\n",
      "\n",
      "The following objects are masked from 'package:stats':\n",
      "\n",
      "    filter, lag\n",
      "\n",
      "\n",
      "The following objects are masked from 'package:base':\n",
      "\n",
      "    intersect, setdiff, setequal, union\n",
      "\n",
      "\n",
      "Warning message:\n",
      "\"package 'lmerTest' was built under R version 4.1.2\"\n",
      "Loading required package: lme4\n",
      "\n",
      "Loading required package: Matrix\n",
      "\n",
      "\n",
      "Attaching package: 'lmerTest'\n",
      "\n",
      "\n",
      "The following object is masked from 'package:lme4':\n",
      "\n",
      "    lmer\n",
      "\n",
      "\n",
      "The following object is masked from 'package:stats':\n",
      "\n",
      "    step\n",
      "\n",
      "\n",
      "\n",
      "Attaching package: 'tidyr'\n",
      "\n",
      "\n",
      "The following objects are masked from 'package:Matrix':\n",
      "\n",
      "    expand, pack, unpack\n",
      "\n",
      "\n"
     ]
    }
   ],
   "source": [
    "library(ggplot2)\n",
    "library(readxl)\n",
    "library(dplyr)\n",
    "library(lmerTest)\n",
    "library(tidyr)"
   ]
  },
  {
   "cell_type": "code",
   "execution_count": 2,
   "id": "88b75665",
   "metadata": {},
   "outputs": [
    {
     "name": "stderr",
     "output_type": "stream",
     "text": [
      "New names:\n",
      "* `` -> ...1\n",
      "\n",
      "New names:\n",
      "* `` -> ...1\n",
      "\n",
      "New names:\n",
      "* `` -> ...1\n",
      "\n",
      "New names:\n",
      "* `` -> ...1\n",
      "\n",
      "New names:\n",
      "* `` -> ...1\n",
      "\n",
      "New names:\n",
      "* `` -> ...1\n",
      "\n"
     ]
    }
   ],
   "source": [
    "df_rob_b = data.frame(read_excel(\"Result_indi_roberta_base.xlsx\"))\n",
    "df_ber_b = data.frame(read_excel(\"Result_indi_bert_base.xlsx\"))\n",
    "df_ele_l = data.frame(read_excel(\"Result_indi_electra_large.xlsx\"))\n",
    "df_ern = data.frame(read_excel(\"Result_indi_ernie.xlsx\"))\n",
    "df_mac_b = data.frame(read_excel(\"Result_indi_macbert_base.xlsx\"))\n",
    "df_mac_l = data.frame(read_excel(\"Result_indi_macbert_large.xlsx\"))"
   ]
  },
  {
   "cell_type": "code",
   "execution_count": 3,
   "id": "705ce5d7",
   "metadata": {},
   "outputs": [],
   "source": [
    "df_rob_b2 <- df_rob_b %>% mutate(model = \"RoBERTa-base\")\n",
    "df_ber_b2 <- df_ber_b %>% mutate(model = \"BERT-base\")\n",
    "df_ele_l2 <- df_ele_l %>% mutate(model = \"ELECTRA-large\")\n",
    "df_ern2 <- df_ern %>% mutate(model = \"ERNIE 1.0\")\n",
    "df_mac_b2 <- df_mac_b %>% mutate(model = \"MacBERT-base\")\n",
    "df_mac_l2 <- df_mac_l %>% mutate(model = \"MacBERT-large\")"
   ]
  },
  {
   "cell_type": "code",
   "execution_count": 4,
   "id": "8bfc7271",
   "metadata": {},
   "outputs": [
    {
     "data": {
      "text/html": [
       "<table class=\"dataframe\">\n",
       "<caption>A data.frame: 3 × 10</caption>\n",
       "<thead>\n",
       "\t<tr><th></th><th scope=col>...1</th><th scope=col>Verb</th><th scope=col>Condition</th><th scope=col>prob_ba</th><th scope=col>prob_bei</th><th scope=col>model</th><th scope=col>telic</th><th scope=col>surp_ba</th><th scope=col>surp_bei</th><th scope=col>diff_babei</th></tr>\n",
       "\t<tr><th></th><th scope=col>&lt;dbl&gt;</th><th scope=col>&lt;chr&gt;</th><th scope=col>&lt;chr&gt;</th><th scope=col>&lt;dbl&gt;</th><th scope=col>&lt;dbl&gt;</th><th scope=col>&lt;chr&gt;</th><th scope=col>&lt;chr&gt;</th><th scope=col>&lt;dbl&gt;</th><th scope=col>&lt;dbl&gt;</th><th scope=col>&lt;dbl&gt;</th></tr>\n",
       "</thead>\n",
       "<tbody>\n",
       "\t<tr><th scope=row>1</th><td>0</td><td>t-da </td><td>P/C_cl</td><td>0.1814156</td><td>0.6124651</td><td>RoBERTa-base</td><td>temporal</td><td>2.462630</td><td>0.7073005</td><td> 1.7553293</td></tr>\n",
       "\t<tr><th scope=row>2</th><td>1</td><td>t-zou</td><td>P/C_cl</td><td>0.4688937</td><td>0.3266346</td><td>RoBERTa-base</td><td>temporal</td><td>1.092667</td><td>1.6142507</td><td>-0.5215835</td></tr>\n",
       "\t<tr><th scope=row>3</th><td>2</td><td>t-ma </td><td>P/C_cl</td><td>0.3603301</td><td>0.4974927</td><td>RoBERTa-base</td><td>temporal</td><td>1.472609</td><td>1.0072526</td><td> 0.4653563</td></tr>\n",
       "</tbody>\n",
       "</table>\n"
      ],
      "text/latex": [
       "A data.frame: 3 × 10\n",
       "\\begin{tabular}{r|llllllllll}\n",
       "  & ...1 & Verb & Condition & prob\\_ba & prob\\_bei & model & telic & surp\\_ba & surp\\_bei & diff\\_babei\\\\\n",
       "  & <dbl> & <chr> & <chr> & <dbl> & <dbl> & <chr> & <chr> & <dbl> & <dbl> & <dbl>\\\\\n",
       "\\hline\n",
       "\t1 & 0 & t-da  & P/C\\_cl & 0.1814156 & 0.6124651 & RoBERTa-base & temporal & 2.462630 & 0.7073005 &  1.7553293\\\\\n",
       "\t2 & 1 & t-zou & P/C\\_cl & 0.4688937 & 0.3266346 & RoBERTa-base & temporal & 1.092667 & 1.6142507 & -0.5215835\\\\\n",
       "\t3 & 2 & t-ma  & P/C\\_cl & 0.3603301 & 0.4974927 & RoBERTa-base & temporal & 1.472609 & 1.0072526 &  0.4653563\\\\\n",
       "\\end{tabular}\n"
      ],
      "text/markdown": [
       "\n",
       "A data.frame: 3 × 10\n",
       "\n",
       "| <!--/--> | ...1 &lt;dbl&gt; | Verb &lt;chr&gt; | Condition &lt;chr&gt; | prob_ba &lt;dbl&gt; | prob_bei &lt;dbl&gt; | model &lt;chr&gt; | telic &lt;chr&gt; | surp_ba &lt;dbl&gt; | surp_bei &lt;dbl&gt; | diff_babei &lt;dbl&gt; |\n",
       "|---|---|---|---|---|---|---|---|---|---|---|\n",
       "| 1 | 0 | t-da  | P/C_cl | 0.1814156 | 0.6124651 | RoBERTa-base | temporal | 2.462630 | 0.7073005 |  1.7553293 |\n",
       "| 2 | 1 | t-zou | P/C_cl | 0.4688937 | 0.3266346 | RoBERTa-base | temporal | 1.092667 | 1.6142507 | -0.5215835 |\n",
       "| 3 | 2 | t-ma  | P/C_cl | 0.3603301 | 0.4974927 | RoBERTa-base | temporal | 1.472609 | 1.0072526 |  0.4653563 |\n",
       "\n"
      ],
      "text/plain": [
       "  ...1 Verb  Condition prob_ba   prob_bei  model        telic    surp_ba \n",
       "1 0    t-da  P/C_cl    0.1814156 0.6124651 RoBERTa-base temporal 2.462630\n",
       "2 1    t-zou P/C_cl    0.4688937 0.3266346 RoBERTa-base temporal 1.092667\n",
       "3 2    t-ma  P/C_cl    0.3603301 0.4974927 RoBERTa-base temporal 1.472609\n",
       "  surp_bei  diff_babei\n",
       "1 0.7073005  1.7553293\n",
       "2 1.6142507 -0.5215835\n",
       "3 1.0072526  0.4653563"
      ]
     },
     "metadata": {},
     "output_type": "display_data"
    },
    {
     "data": {
      "text/html": [
       "<style>\n",
       ".list-inline {list-style: none; margin:0; padding: 0}\n",
       ".list-inline>li {display: inline-block}\n",
       ".list-inline>li:not(:last-child)::after {content: \"\\00b7\"; padding: 0 .5ex}\n",
       "</style>\n",
       "<ol class=list-inline><li>'P/C_cl'</li><li>'C_cl/P'</li><li>'C/P'</li><li>'C_cl/C_cl'</li><li>'P/P'</li></ol>\n"
      ],
      "text/latex": [
       "\\begin{enumerate*}\n",
       "\\item 'P/C\\_cl'\n",
       "\\item 'C\\_cl/P'\n",
       "\\item 'C/P'\n",
       "\\item 'C\\_cl/C\\_cl'\n",
       "\\item 'P/P'\n",
       "\\end{enumerate*}\n"
      ],
      "text/markdown": [
       "1. 'P/C_cl'\n",
       "2. 'C_cl/P'\n",
       "3. 'C/P'\n",
       "4. 'C_cl/C_cl'\n",
       "5. 'P/P'\n",
       "\n",
       "\n"
      ],
      "text/plain": [
       "[1] \"P/C_cl\"    \"C_cl/P\"    \"C/P\"       \"C_cl/C_cl\" \"P/P\"      "
      ]
     },
     "metadata": {},
     "output_type": "display_data"
    },
    {
     "data": {
      "text/html": [
       "<style>\n",
       ".list-inline {list-style: none; margin:0; padding: 0}\n",
       ".list-inline>li {display: inline-block}\n",
       ".list-inline>li:not(:last-child)::after {content: \"\\00b7\"; padding: 0 .5ex}\n",
       "</style>\n",
       "<ol class=list-inline><li>'RoBERTa-base'</li><li>'BERT-base'</li><li>'ELECTRA-large'</li><li>'ERNIE 1.0'</li><li>'MacBERT-base'</li><li>'MacBERT-large'</li></ol>\n"
      ],
      "text/latex": [
       "\\begin{enumerate*}\n",
       "\\item 'RoBERTa-base'\n",
       "\\item 'BERT-base'\n",
       "\\item 'ELECTRA-large'\n",
       "\\item 'ERNIE 1.0'\n",
       "\\item 'MacBERT-base'\n",
       "\\item 'MacBERT-large'\n",
       "\\end{enumerate*}\n"
      ],
      "text/markdown": [
       "1. 'RoBERTa-base'\n",
       "2. 'BERT-base'\n",
       "3. 'ELECTRA-large'\n",
       "4. 'ERNIE 1.0'\n",
       "5. 'MacBERT-base'\n",
       "6. 'MacBERT-large'\n",
       "\n",
       "\n"
      ],
      "text/plain": [
       "[1] \"RoBERTa-base\"  \"BERT-base\"     \"ELECTRA-large\" \"ERNIE 1.0\"    \n",
       "[5] \"MacBERT-base\"  \"MacBERT-large\""
      ]
     },
     "metadata": {},
     "output_type": "display_data"
    }
   ],
   "source": [
    "df_read <- rbind(rbind(rbind(rbind(rbind(df_rob_b2,df_ber_b2), df_ele_l2),df_ern2),df_mac_b2),df_mac_l2)\n",
    "df_read$telic = substr(df_read$Verb,1,1)\n",
    "\n",
    "df_raw <- df_read %>% dplyr::select(-MaskedSentence) %>% mutate(surp_ba = -log(df_read$prob_ba + exp(-30), base = 2))%>%\n",
    "mutate(surp_bei = -log(df_read$prob_bei + exp(-30), base = 2))%>% mutate(diff_babei = surp_ba - surp_bei) %>%\n",
    "mutate(telic = case_when(telic == 's' ~ 'spatial',TRUE ~ 'temporal')) %>% filter(Condition != \"NP2_4cha\" & Condition != \"NP2_2cha\")\n",
    "\n",
    "df_raw <- df_raw %>% mutate(Condition = case_when(Condition == 'NP1_com' ~ 'C_cl/P',\n",
    "                                                  Condition == 'NP2_com' ~ 'P/C_cl',\n",
    "                                                  Condition == 'NP1_2cha' ~ 'C/P',\n",
    "                                                  Condition == 'NP1_4cha' ~ 'C_cl/C_cl',\n",
    "                                                  TRUE ~ 'P/P'))\n",
    "head(df_raw,3)\n",
    "unique(df_raw$Condition)\n",
    "unique(df_raw$model)"
   ]
  },
  {
   "cell_type": "markdown",
   "id": "3f7855db",
   "metadata": {},
   "source": [
    "## plot B_LMs for spatially telic context:"
   ]
  },
  {
   "cell_type": "code",
   "execution_count": 8,
   "id": "2ddf506c",
   "metadata": {},
   "outputs": [
    {
     "name": "stderr",
     "output_type": "stream",
     "text": [
      "`summarise()` has grouped output by 'Condition'. You can override using the `.groups` argument.\n",
      "\n"
     ]
    },
    {
     "data": {
      "image/png": "[encoded data removed]",
      "text/plain": [
       "plot without title"
      ]
     },
     "metadata": {
      "image/png": {
       "height": 360,
       "width": 600
      }
     },
     "output_type": "display_data"
    }
   ],
   "source": [
    "df_plot <- df_raw %>% filter(telic == \"spatial\") %>% group_by(Condition, model)%>% summarise(Mean = mean(diff_babei))\n",
    "options(repr.plot.width=10, repr.plot.height=6)\n",
    "\n",
    "level = c(\"P/P\",\"C_cl/C_cl\",\"C_cl/P\", \"P/C_cl\" ,  \"C/P\")\n",
    "\n",
    "plot_indi_spa <- ggplot(df_plot, aes(x = factor(Condition,levels = level), y = Mean, color = model, group = model)) +\n",
    "   geom_point(size = 2.5) + geom_line(size= 1.5) + theme_bw() + \n",
    "theme(axis.text.x = element_text(size=18,color = \"black\"), \n",
    "      axis.title.x = element_blank(),\n",
    "      axis.text.y = element_text(size=18,color = \"black\"),  \n",
    "      axis.title.y = element_text(size = 18, color = \"black\"),\n",
    "      legend.text = element_text(size= 16), \n",
    "      legend.title=element_blank(),\n",
    "      aspect.ratio = 4/10) + \n",
    "labs(y = \"B_LM\") +\n",
    "geom_hline(aes(yintercept = 0), linetype=\"dashed\")\n",
    "\n",
    "plot_indi_spa\n",
    "# ggsave(file=\"ind.svg\", plot= plot_indi_spa, width=10, height=6)"
   ]
  },
  {
   "cell_type": "code",
   "execution_count": 10,
   "id": "8c5afbcb",
   "metadata": {},
   "outputs": [
    {
     "name": "stderr",
     "output_type": "stream",
     "text": [
      "boundary (singular) fit: see ?isSingular\n",
      "\n"
     ]
    },
    {
     "data": {
      "text/html": [
       "<table class=\"dataframe\">\n",
       "<caption>A data.frame: 2 × 5</caption>\n",
       "<thead>\n",
       "\t<tr><th></th><th scope=col>Estimate</th><th scope=col>Std..Error</th><th scope=col>df</th><th scope=col>t.value</th><th scope=col>Pr...t..</th></tr>\n",
       "\t<tr><th></th><th scope=col>&lt;dbl&gt;</th><th scope=col>&lt;dbl&gt;</th><th scope=col>&lt;dbl&gt;</th><th scope=col>&lt;dbl&gt;</th><th scope=col>&lt;dbl&gt;</th></tr>\n",
       "</thead>\n",
       "<tbody>\n",
       "\t<tr><th scope=row>(Intercept)</th><td>0.9049864</td><td>0.3275512</td><td>16</td><td>2.762885</td><td>0.013861803</td></tr>\n",
       "\t<tr><th scope=row>BABEIsurp_bei</th><td>1.6495011</td><td>0.4632273</td><td>16</td><td>3.560889</td><td>0.002605872</td></tr>\n",
       "</tbody>\n",
       "</table>\n"
      ],
      "text/latex": [
       "A data.frame: 2 × 5\n",
       "\\begin{tabular}{r|lllll}\n",
       "  & Estimate & Std..Error & df & t.value & Pr...t..\\\\\n",
       "  & <dbl> & <dbl> & <dbl> & <dbl> & <dbl>\\\\\n",
       "\\hline\n",
       "\t(Intercept) & 0.9049864 & 0.3275512 & 16 & 2.762885 & 0.013861803\\\\\n",
       "\tBABEIsurp\\_bei & 1.6495011 & 0.4632273 & 16 & 3.560889 & 0.002605872\\\\\n",
       "\\end{tabular}\n"
      ],
      "text/markdown": [
       "\n",
       "A data.frame: 2 × 5\n",
       "\n",
       "| <!--/--> | Estimate &lt;dbl&gt; | Std..Error &lt;dbl&gt; | df &lt;dbl&gt; | t.value &lt;dbl&gt; | Pr...t.. &lt;dbl&gt; |\n",
       "|---|---|---|---|---|---|\n",
       "| (Intercept) | 0.9049864 | 0.3275512 | 16 | 2.762885 | 0.013861803 |\n",
       "| BABEIsurp_bei | 1.6495011 | 0.4632273 | 16 | 3.560889 | 0.002605872 |\n",
       "\n"
      ],
      "text/plain": [
       "              Estimate  Std..Error df t.value  Pr...t..   \n",
       "(Intercept)   0.9049864 0.3275512  16 2.762885 0.013861803\n",
       "BABEIsurp_bei 1.6495011 0.4632273  16 3.560889 0.002605872"
      ]
     },
     "metadata": {},
     "output_type": "display_data"
    }
   ],
   "source": [
    "# ba vs. bei in the NP1_4cha-condition for model \"RoBERTa-base\":\n",
    "\n",
    "df_mod_m <- df_raw %>% filter(telic == \"spatial\") %>% gather(BABEI, Value, surp_ba:surp_bei)\n",
    "\n",
    "m_mod <- lmer(Value ~ BABEI   + (1|Verb) , data = df_mod_m %>% filter(Condition == \"C_cl/C_cl\" & model == \"RoBERTa-base\")) \n",
    "data.frame(coef(summary(m_mod)))"
   ]
  },
  {
   "cell_type": "code",
   "execution_count": null,
   "id": "7a16c8ad",
   "metadata": {},
   "outputs": [],
   "source": []
  }
 ],
 "metadata": {
  "kernelspec": {
   "display_name": "R",
   "language": "R",
   "name": "ir"
  },
  "language_info": {
   "codemirror_mode": "r",
   "file_extension": ".r",
   "mimetype": "text/x-r-source",
   "name": "R",
   "pygments_lexer": "r",
   "version": "4.1.1"
  }
 },
 "nbformat": 4,
 "nbformat_minor": 5
}
