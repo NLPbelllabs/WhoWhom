{
 "cells": [
  {
   "cell_type": "code",
   "execution_count": 1,
   "id": "fa17d20b",
   "metadata": {},
   "outputs": [
    {
     "name": "stdout",
     "output_type": "stream",
     "text": [
      "Populating the interactive namespace from numpy and matplotlib\n"
     ]
    }
   ],
   "source": [
    "%pylab inline"
   ]
  },
  {
   "cell_type": "code",
   "execution_count": 2,
   "id": "a78698a1",
   "metadata": {},
   "outputs": [],
   "source": [
    "import matplotlib.font_manager as fm\n",
    "import torch\n",
    "myfont = fm.FontProperties(fname='C:/Windows/Fonts/simsun.ttc')\n",
    "\n",
    "import transformers\n",
    "transformers.__version__\n",
    "import pandas as pd\n",
    "\n",
    "from transformers import AutoTokenizer, AutoModelForMaskedLM\n",
    "from transformers import BertTokenizer, BertModel, BertForMaskedLM\n",
    "from transformers import ElectraTokenizer, ElectraModel, ElectraForMaskedLM"
   ]
  },
  {
   "cell_type": "code",
   "execution_count": 15,
   "id": "c0ebf784",
   "metadata": {},
   "outputs": [],
   "source": [
    "'''import xlxs'''\n",
    "\n",
    "filename='Items_indi.xlsx'\n",
    "df_N = pd.read_excel(filename)\n",
    "\n",
    "df_N = df_N[['Verb','Condition','MaskedSentence']]\n",
    "NL=len(df_N['MaskedSentence'])\n",
    "\n",
    "prob_ba=np.zeros(NL,dtype = 'float64')\n",
    "prob_bei=np.zeros(NL,dtype = 'float64')\n",
    "\n",
    "top_k=60\n",
    "\n",
    "def predict_masked_sent(text, top_k=10,print_en=True):\n",
    "    # Tokenize input\n",
    "    text = \"[CLS] %s [SEP]\"%text\n",
    "    tokenized_text = tokenizer.tokenize(text)\n",
    "    masked_index = tokenized_text.index(\"[MASK]\")\n",
    "    indexed_tokens = tokenizer.convert_tokens_to_ids(tokenized_text)\n",
    "    tokens_tensor = torch.tensor([indexed_tokens])\n",
    "    # tokens_tensor = tokens_tensor.to('cuda')    # if you have gpu\n",
    "\n",
    "    # Predict all tokens\n",
    "    with torch.no_grad():\n",
    "        outputs = model(tokens_tensor)\n",
    "        predictions = outputs[0]\n",
    "\n",
    "    probs = torch.nn.functional.softmax(predictions[0, masked_index], dim=-1)\n",
    "    top_k_weights, top_k_indices = torch.topk(probs, top_k, sorted=True)\n",
    "    \n",
    "    return_list=[]\n",
    "    for i, pred_idx in enumerate(top_k_indices):\n",
    "        predicted_token = tokenizer.convert_ids_to_tokens([pred_idx])[0]\n",
    "        token_weight = top_k_weights[i]\n",
    "        if print_en:\n",
    "            print(\"[MASK]: '%s'\"%predicted_token, \" | weights:\", float(token_weight))\n",
    "        return_list.append({'token_str':predicted_token,'score':token_weight.numpy()})\n",
    "    return return_list\n",
    "\n",
    "def save_prob(model_name):\n",
    "    \n",
    "    prob_ba=np.zeros(NL,dtype = 'float64')  \n",
    "    prob_bei=np.zeros(NL,dtype = 'float64')\n",
    "\n",
    "    top_k=30\n",
    "\n",
    "    for i in range(NL):\n",
    "        #pre = predictor(dfsa2[i,j])\n",
    "        pre = predict_masked_sent(df_N['MaskedSentence'][i], top_k=top_k,print_en=False)\n",
    "        \n",
    "        tmpscore=[tmp['score'] for tmp in pre if tmp['token_str']=='把']\n",
    "        if tmpscore==[]:\n",
    "            tmpscore=[0]\n",
    "        prob_ba[i]=float(np.asarray(tmpscore))\n",
    "\n",
    "        tmpscore=[tmp['score'] for tmp in pre if tmp['token_str']=='被']\n",
    "        if tmpscore==[]:\n",
    "            tmpscore=[0]\n",
    "        prob_bei[i]=float(np.asarray(tmpscore))\n",
    "        \n",
    "    df_N['prob_ba']=prob_ba\n",
    "    df_N['prob_bei']=prob_bei\n",
    "\n",
    "    file_name = \"Result_indi_{}.xlsx\".format(model_name)\n",
    "\n",
    "    df_N.to_excel(file_name)\n",
    "    print(file_name,'saved')"
   ]
  },
  {
   "cell_type": "markdown",
   "id": "1ad1f323",
   "metadata": {},
   "source": [
    "1. BERT base chinese"
   ]
  },
  {
   "cell_type": "code",
   "execution_count": 16,
   "id": "f66c8d94",
   "metadata": {},
   "outputs": [
    {
     "name": "stderr",
     "output_type": "stream",
     "text": [
      "Some weights of the model checkpoint at C:/Work/Classifier/HuggingFace/bert-base-chinese were not used when initializing BertForMaskedLM: ['cls.seq_relationship.weight', 'cls.seq_relationship.bias']\n",
      "- This IS expected if you are initializing BertForMaskedLM from the checkpoint of a model trained on another task or with another architecture (e.g. initializing a BertForSequenceClassification model from a BertForPreTraining model).\n",
      "- This IS NOT expected if you are initializing BertForMaskedLM from the checkpoint of a model that you expect to be exactly identical (initializing a BertForSequenceClassification model from a BertForSequenceClassification model).\n"
     ]
    },
    {
     "name": "stdout",
     "output_type": "stream",
     "text": [
      "Result_indi_bert_base.xlsx saved\n"
     ]
    }
   ],
   "source": [
    "model_folder=\"C:/Work/Classifier/HuggingFace/bert-base-chinese\"\n",
    "tokenizer = BertTokenizer.from_pretrained(model_folder)\n",
    "model = BertForMaskedLM.from_pretrained(model_folder)\n",
    "model.eval();\n",
    "\n",
    "model_name = 'bert_base'\n",
    "save_prob(model_name)"
   ]
  },
  {
   "cell_type": "markdown",
   "id": "ddba09ff",
   "metadata": {},
   "source": [
    "2. roberta_base chinese"
   ]
  },
  {
   "cell_type": "code",
   "execution_count": 17,
   "id": "3679fb53",
   "metadata": {},
   "outputs": [
    {
     "name": "stderr",
     "output_type": "stream",
     "text": [
      "Some weights of the model checkpoint at C:/Work/Classifier/HuggingFace/chinese-roberta-wwm-ext were not used when initializing BertForMaskedLM: ['cls.seq_relationship.weight', 'cls.seq_relationship.bias']\n",
      "- This IS expected if you are initializing BertForMaskedLM from the checkpoint of a model trained on another task or with another architecture (e.g. initializing a BertForSequenceClassification model from a BertForPreTraining model).\n",
      "- This IS NOT expected if you are initializing BertForMaskedLM from the checkpoint of a model that you expect to be exactly identical (initializing a BertForSequenceClassification model from a BertForSequenceClassification model).\n"
     ]
    },
    {
     "name": "stdout",
     "output_type": "stream",
     "text": [
      "Result_indi_roberta_base.xlsx saved\n"
     ]
    }
   ],
   "source": [
    "model_folder=\"C:/Work/Classifier/HuggingFace/chinese-roberta-wwm-ext\"\n",
    "tokenizer = BertTokenizer.from_pretrained(model_folder)\n",
    "model = BertForMaskedLM.from_pretrained(model_folder)\n",
    "model.eval();\n",
    "\n",
    "model_name = 'roberta_base'\n",
    "save_prob(model_name)\n"
   ]
  },
  {
   "cell_type": "markdown",
   "id": "48283aa1",
   "metadata": {},
   "source": [
    "3. electra_large chinese"
   ]
  },
  {
   "cell_type": "code",
   "execution_count": 18,
   "id": "f09a59e6",
   "metadata": {},
   "outputs": [
    {
     "name": "stdout",
     "output_type": "stream",
     "text": [
      "Result_indi_electra_large.xlsx saved\n"
     ]
    }
   ],
   "source": [
    "model_folder=\"C:/Work/Classifier/HuggingFace/chinese-electra-large-generator\"\n",
    "tokenizer = ElectraTokenizer.from_pretrained(model_folder)\n",
    "model = ElectraForMaskedLM.from_pretrained(model_folder)\n",
    "model.eval();\n",
    "\n",
    "model_name = 'electra_large'\n",
    "save_prob(model_name)\n"
   ]
  },
  {
   "cell_type": "markdown",
   "id": "cbebe9e1",
   "metadata": {},
   "source": [
    "4. ernie 1.0 Chinese"
   ]
  },
  {
   "cell_type": "code",
   "execution_count": 19,
   "id": "18db9efa",
   "metadata": {},
   "outputs": [
    {
     "name": "stdout",
     "output_type": "stream",
     "text": [
      "Result_indi_ernie.xlsx saved\n"
     ]
    }
   ],
   "source": [
    "model_folder=\"C:/Work/Classifier/HuggingFace/ernie-1.0\"\n",
    "tokenizer = BertTokenizer.from_pretrained(model_folder)\n",
    "model = BertForMaskedLM.from_pretrained(model_folder)\n",
    "model.eval();\n",
    "\n",
    "model_name = 'ernie'\n",
    "save_prob(model_name)"
   ]
  },
  {
   "cell_type": "markdown",
   "id": "13ae1c86",
   "metadata": {},
   "source": [
    "5 & 6. macbert base and large"
   ]
  },
  {
   "cell_type": "code",
   "execution_count": 20,
   "id": "cbac0005",
   "metadata": {},
   "outputs": [
    {
     "name": "stderr",
     "output_type": "stream",
     "text": [
      "Some weights of the model checkpoint at C:/Work/Classifier/HuggingFace/chinese-macbert-large were not used when initializing BertForMaskedLM: ['cls.seq_relationship.weight', 'cls.seq_relationship.bias']\n",
      "- This IS expected if you are initializing BertForMaskedLM from the checkpoint of a model trained on another task or with another architecture (e.g. initializing a BertForSequenceClassification model from a BertForPreTraining model).\n",
      "- This IS NOT expected if you are initializing BertForMaskedLM from the checkpoint of a model that you expect to be exactly identical (initializing a BertForSequenceClassification model from a BertForSequenceClassification model).\n"
     ]
    },
    {
     "name": "stdout",
     "output_type": "stream",
     "text": [
      "Result_indi_macbert_large.xlsx saved\n"
     ]
    },
    {
     "name": "stderr",
     "output_type": "stream",
     "text": [
      "Some weights of the model checkpoint at C:/Work/Classifier/HuggingFace/chinese-macbert-base were not used when initializing BertForMaskedLM: ['cls.seq_relationship.weight', 'cls.seq_relationship.bias']\n",
      "- This IS expected if you are initializing BertForMaskedLM from the checkpoint of a model trained on another task or with another architecture (e.g. initializing a BertForSequenceClassification model from a BertForPreTraining model).\n",
      "- This IS NOT expected if you are initializing BertForMaskedLM from the checkpoint of a model that you expect to be exactly identical (initializing a BertForSequenceClassification model from a BertForSequenceClassification model).\n"
     ]
    },
    {
     "name": "stdout",
     "output_type": "stream",
     "text": [
      "Result_indi_macbert_base.xlsx saved\n"
     ]
    }
   ],
   "source": [
    "model_folder=\"C:/Work/Classifier/HuggingFace/chinese-macbert-large\"\n",
    "tokenizer = BertTokenizer.from_pretrained(model_folder)\n",
    "model = BertForMaskedLM.from_pretrained(model_folder)\n",
    "model.eval();\n",
    "\n",
    "model_name = 'macbert_large'\n",
    "save_prob(model_name)\n",
    "\n",
    "\n",
    "model_folder=\"C:/Work/Classifier/HuggingFace/chinese-macbert-base\"\n",
    "tokenizer = BertTokenizer.from_pretrained(model_folder)\n",
    "model = BertForMaskedLM.from_pretrained(model_folder)\n",
    "model.eval();\n",
    "\n",
    "model_name = 'macbert_base'\n",
    "save_prob(model_name)"
   ]
  },
  {
   "cell_type": "code",
   "execution_count": null,
   "id": "48071f63",
   "metadata": {},
   "outputs": [],
   "source": []
  }
 ],
 "metadata": {
  "kernelspec": {
   "display_name": "Python 3 (ipykernel)",
   "language": "python",
   "name": "python3"
  },
  "language_info": {
   "codemirror_mode": {
    "name": "ipython",
    "version": 3
   },
   "file_extension": ".py",
   "mimetype": "text/x-python",
   "name": "python",
   "nbconvert_exporter": "python",
   "pygments_lexer": "ipython3",
   "version": "3.9.7"
  }
 },
 "nbformat": 4,
 "nbformat_minor": 5
}
